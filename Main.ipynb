{
 "cells": [
  {
   "cell_type": "code",
   "execution_count": 1,
   "id": "0c434448-3bce-410e-bb56-f8e7defd9dfb",
   "metadata": {},
   "outputs": [],
   "source": [
    "from import_library import *"
   ]
  },
  {
   "cell_type": "code",
   "execution_count": 28,
   "id": "634b7747-123f-4086-bf96-d843ef2788b1",
   "metadata": {},
   "outputs": [],
   "source": [
    "def Colab(mainFile):\n",
    "    from google.colab import drive\n",
    "    drive.mount('/content/drive')\n",
    "    dir = '/content/drive/MyDrive/Example/Stock/'\n",
    "    df = pd.read_csv(dir+mainFile, sep=',',header = 0)\n",
    "    return df "
   ]
  },
  {
   "cell_type": "markdown",
   "id": "44948053-a42a-4aae-a2b8-4fe0484277df",
   "metadata": {},
   "source": [
    "# Configuration"
   ]
  },
  {
   "cell_type": "code",
   "execution_count": 3,
   "id": "3976aba6-67b7-4420-b5c0-d1e3fadb0c99",
   "metadata": {},
   "outputs": [],
   "source": [
    "SEED = 42\n",
    "DEVICE = \"cuda\" if torch.cuda.is_available() else \"cpu\"\n",
    "NUM_WORKERS = 4\n",
    "BATCH_SIZE = 8 # 64\n",
    "PIN_MEMORY = True\n",
    "LOAD_MODEL = False\n",
    "LEARNING_RATE = 1e-4\n",
    "NUM_EPOCHS = 100"
   ]
  },
  {
   "cell_type": "code",
   "execution_count": 5,
   "id": "c187b372-117d-49e6-9b79-18870136bf03",
   "metadata": {},
   "outputs": [
    {
     "data": {
      "text/html": [
       "<div>\n",
       "<style scoped>\n",
       "    .dataframe tbody tr th:only-of-type {\n",
       "        vertical-align: middle;\n",
       "    }\n",
       "\n",
       "    .dataframe tbody tr th {\n",
       "        vertical-align: top;\n",
       "    }\n",
       "\n",
       "    .dataframe thead th {\n",
       "        text-align: right;\n",
       "    }\n",
       "</style>\n",
       "<table border=\"1\" class=\"dataframe\">\n",
       "  <thead>\n",
       "    <tr style=\"text-align: right;\">\n",
       "      <th></th>\n",
       "      <th>Date</th>\n",
       "      <th>Price</th>\n",
       "      <th>Open</th>\n",
       "      <th>High</th>\n",
       "      <th>Low</th>\n",
       "      <th>Vol.</th>\n",
       "      <th>Change %</th>\n",
       "    </tr>\n",
       "  </thead>\n",
       "  <tbody>\n",
       "    <tr>\n",
       "      <th>0</th>\n",
       "      <td>08/18/2023</td>\n",
       "      <td>18,200.00</td>\n",
       "      <td>19,300.00</td>\n",
       "      <td>19,300.00</td>\n",
       "      <td>18,100.00</td>\n",
       "      <td>3.63M</td>\n",
       "      <td>-6.19%</td>\n",
       "    </tr>\n",
       "    <tr>\n",
       "      <th>1</th>\n",
       "      <td>08/17/2023</td>\n",
       "      <td>19,400.00</td>\n",
       "      <td>19,500.00</td>\n",
       "      <td>19,650.00</td>\n",
       "      <td>19,400.00</td>\n",
       "      <td>1.48M</td>\n",
       "      <td>-1.02%</td>\n",
       "    </tr>\n",
       "    <tr>\n",
       "      <th>2</th>\n",
       "      <td>08/16/2023</td>\n",
       "      <td>19,600.00</td>\n",
       "      <td>19,500.00</td>\n",
       "      <td>19,750.00</td>\n",
       "      <td>19,400.00</td>\n",
       "      <td>2.11M</td>\n",
       "      <td>0.26%</td>\n",
       "    </tr>\n",
       "    <tr>\n",
       "      <th>3</th>\n",
       "      <td>08/15/2023</td>\n",
       "      <td>19,550.00</td>\n",
       "      <td>20,100.00</td>\n",
       "      <td>20,150.00</td>\n",
       "      <td>19,450.00</td>\n",
       "      <td>2.19M</td>\n",
       "      <td>-2.01%</td>\n",
       "    </tr>\n",
       "    <tr>\n",
       "      <th>4</th>\n",
       "      <td>08/14/2023</td>\n",
       "      <td>19,950.00</td>\n",
       "      <td>19,800.00</td>\n",
       "      <td>20,150.00</td>\n",
       "      <td>19,800.00</td>\n",
       "      <td>2.01M</td>\n",
       "      <td>0.76%</td>\n",
       "    </tr>\n",
       "  </tbody>\n",
       "</table>\n",
       "</div>"
      ],
      "text/plain": [
       "         Date      Price       Open       High        Low   Vol. Change %\n",
       "0  08/18/2023  18,200.00  19,300.00  19,300.00  18,100.00  3.63M   -6.19%\n",
       "1  08/17/2023  19,400.00  19,500.00  19,650.00  19,400.00  1.48M   -1.02%\n",
       "2  08/16/2023  19,600.00  19,500.00  19,750.00  19,400.00  2.11M    0.26%\n",
       "3  08/15/2023  19,550.00  20,100.00  20,150.00  19,450.00  2.19M   -2.01%\n",
       "4  08/14/2023  19,950.00  19,800.00  20,150.00  19,800.00  2.01M    0.76%"
      ]
     },
     "execution_count": 5,
     "metadata": {},
     "output_type": "execute_result"
    }
   ],
   "source": [
    "mainFile = 'OCB Historical Data.csv'\n",
    "# Colab\n",
    "# df_raw = Colab(mainFile)\n",
    "# Local\n",
    "df_raw = pd.read_csv(mainFile, sep=',',header = 0)\n",
    "df_raw.head()"
   ]
  },
  {
   "cell_type": "markdown",
   "id": "94192016-0830-4be7-af76-bc67d434e93e",
   "metadata": {},
   "source": [
    "# Data Wrangling"
   ]
  },
  {
   "cell_type": "markdown",
   "id": "f6e2cbcb-37f1-464e-8ffe-527a87f65b3e",
   "metadata": {},
   "source": [
    "## Function"
   ]
  },
  {
   "cell_type": "code",
   "execution_count": 6,
   "id": "ed86257e-d902-46f0-946d-ca5d98c8ed7f",
   "metadata": {},
   "outputs": [],
   "source": [
    "### Data_Wrangling.py\n",
    "def DropNanValue(df,features):\n",
    "  '''\n",
    "  Drop nan Value\n",
    "  ----------\n",
    "  Attributes:\n",
    "  df : pd.DataFrame\n",
    "  features: list\n",
    "      List of features\n",
    "  ----------\n",
    "  Returns:\n",
    "  df : pd.DataFrame\n",
    "  ----------\n",
    "  Example:\n",
    "  feautures =['Date','Vol.','Price']\n",
    "  NaProcessed_df = DropNanValue(df,feautures)\n",
    "  df.isnull().sum()\n",
    "  '''\n",
    "  to_delete = []\n",
    "  for feature in features:\n",
    "    condition = df[feature].isnull()\n",
    "    if len(df[condition] != 0):\n",
    "      idx = df[condition].index[0]\n",
    "      to_delete.append(idx)\n",
    "    df = df.drop(to_delete)\n",
    "    df.reset_index(drop=True,inplace=True)\n",
    "  return df\n",
    "\n",
    "### Data_Transformation.py\n",
    "def TransformCommaToColons(input):\n",
    "    return float(input.replace(',',''))/1000\n",
    "\n",
    "def VolumeTransformation(input):\n",
    "  '''\n",
    "    Volume Transformation\n",
    "    ----------\n",
    "    Attributes:\n",
    "    input : DataLoader\n",
    "    model : pytorch model\n",
    "    device : using GPU\n",
    "    ----------\n",
    "    Returns:\n",
    "    acc: accuracy value\n",
    "    ----------\n",
    "    Example:\n",
    "    check_accuracy(val_loader, model, DEVICE)\n",
    "    input = df['Vol.'][0]\n",
    "    input = input[:-1]\n",
    "    millions = input.split('.')[0]\n",
    "    thousand_hundreds = input.split('.')[1][0]\n",
    "    thousand_tens = input.split('.')[1][1]\n",
    "    volume = float(millions)*1e6 + float(thousand_hundreds)*1e5 + float(thousand_tens)*1e4\n",
    "    volume\n",
    "  '''\n",
    "  if input[-1] == \"M\":\n",
    "    # 87.21M\n",
    "    input = input[:-1]\n",
    "    millions = input.split('.')[0]\n",
    "    thousand_hundreds = input.split('.')[1][0]\n",
    "    thousand_tens = input.split('.')[1][1]\n",
    "    volume = float(millions)*1e6 + float(thousand_hundreds)*1e5 + float(thousand_tens)*1e4\n",
    "  else:\n",
    "    # 589.32K\n",
    "    input = input[:-1]\n",
    "    thousands = input.split('.')[0]\n",
    "    hundreds = input.split('.')[1][0]\n",
    "    tens = input.split('.')[1][1]\n",
    "    volume = float(thousands)*1e3 + float(hundreds)*1e2 + float(tens)*1e1\n",
    "  return volume"
   ]
  },
  {
   "cell_type": "markdown",
   "id": "bd1e4abf-22de-4217-8f7e-f702981e63e4",
   "metadata": {},
   "source": [
    "# Run code"
   ]
  },
  {
   "cell_type": "code",
   "execution_count": 7,
   "id": "0066eb69-706d-4469-b672-b7c969955e2c",
   "metadata": {},
   "outputs": [],
   "source": [
    "chosedColumns =['Date','Vol.','Price']\n",
    "df = df_raw[chosedColumns]\n",
    "df = DropNanValue(df, chosedColumns)"
   ]
  },
  {
   "cell_type": "code",
   "execution_count": 9,
   "id": "5094336a-8093-45fd-91a6-abc971168008",
   "metadata": {},
   "outputs": [],
   "source": [
    "# Convert the type of all comlumns # Date --> Time/ Volumn+Close --> Integer\n",
    "# Convert M - k into number\n",
    "df['Vol.'] = df['Vol.'].apply(VolumeTransformation)\n",
    "df['Price'] = df['Price'].apply(TransformCommaToColons)\n",
    "df['Date'] = pd.to_datetime(df['Date'],format='%m/%d/%Y')\n",
    "#df['Month'] = df['Date'].dt.strftime('%m-%Y')\n",
    "df = df.sort_values(by='Date', ascending=True).reset_index(drop=True)"
   ]
  },
  {
   "cell_type": "code",
   "execution_count": 10,
   "id": "6bb27ab2-4966-4acc-b21c-502f23d3463c",
   "metadata": {},
   "outputs": [
    {
     "data": {
      "text/html": [
       "<div>\n",
       "<style scoped>\n",
       "    .dataframe tbody tr th:only-of-type {\n",
       "        vertical-align: middle;\n",
       "    }\n",
       "\n",
       "    .dataframe tbody tr th {\n",
       "        vertical-align: top;\n",
       "    }\n",
       "\n",
       "    .dataframe thead th {\n",
       "        text-align: right;\n",
       "    }\n",
       "</style>\n",
       "<table border=\"1\" class=\"dataframe\">\n",
       "  <thead>\n",
       "    <tr style=\"text-align: right;\">\n",
       "      <th></th>\n",
       "      <th>Date</th>\n",
       "      <th>Vol.</th>\n",
       "      <th>Price</th>\n",
       "    </tr>\n",
       "  </thead>\n",
       "  <tbody>\n",
       "    <tr>\n",
       "      <th>0</th>\n",
       "      <td>2021-01-29</td>\n",
       "      <td>7750000.00</td>\n",
       "      <td>15.68</td>\n",
       "    </tr>\n",
       "    <tr>\n",
       "      <th>1</th>\n",
       "      <td>2021-02-01</td>\n",
       "      <td>8000000.00</td>\n",
       "      <td>15.76</td>\n",
       "    </tr>\n",
       "    <tr>\n",
       "      <th>2</th>\n",
       "      <td>2021-02-02</td>\n",
       "      <td>5160000.00</td>\n",
       "      <td>16.28</td>\n",
       "    </tr>\n",
       "    <tr>\n",
       "      <th>3</th>\n",
       "      <td>2021-02-03</td>\n",
       "      <td>7290000.00</td>\n",
       "      <td>17.12</td>\n",
       "    </tr>\n",
       "    <tr>\n",
       "      <th>4</th>\n",
       "      <td>2021-02-04</td>\n",
       "      <td>5040000.00</td>\n",
       "      <td>16.80</td>\n",
       "    </tr>\n",
       "    <tr>\n",
       "      <th>...</th>\n",
       "      <td>...</td>\n",
       "      <td>...</td>\n",
       "      <td>...</td>\n",
       "    </tr>\n",
       "    <tr>\n",
       "      <th>631</th>\n",
       "      <td>2023-08-14</td>\n",
       "      <td>2010000.00</td>\n",
       "      <td>19.95</td>\n",
       "    </tr>\n",
       "    <tr>\n",
       "      <th>632</th>\n",
       "      <td>2023-08-15</td>\n",
       "      <td>2190000.00</td>\n",
       "      <td>19.55</td>\n",
       "    </tr>\n",
       "    <tr>\n",
       "      <th>633</th>\n",
       "      <td>2023-08-16</td>\n",
       "      <td>2110000.00</td>\n",
       "      <td>19.60</td>\n",
       "    </tr>\n",
       "    <tr>\n",
       "      <th>634</th>\n",
       "      <td>2023-08-17</td>\n",
       "      <td>1480000.00</td>\n",
       "      <td>19.40</td>\n",
       "    </tr>\n",
       "    <tr>\n",
       "      <th>635</th>\n",
       "      <td>2023-08-18</td>\n",
       "      <td>3630000.00</td>\n",
       "      <td>18.20</td>\n",
       "    </tr>\n",
       "  </tbody>\n",
       "</table>\n",
       "<p>636 rows × 3 columns</p>\n",
       "</div>"
      ],
      "text/plain": [
       "          Date       Vol.  Price\n",
       "0   2021-01-29 7750000.00  15.68\n",
       "1   2021-02-01 8000000.00  15.76\n",
       "2   2021-02-02 5160000.00  16.28\n",
       "3   2021-02-03 7290000.00  17.12\n",
       "4   2021-02-04 5040000.00  16.80\n",
       "..         ...        ...    ...\n",
       "631 2023-08-14 2010000.00  19.95\n",
       "632 2023-08-15 2190000.00  19.55\n",
       "633 2023-08-16 2110000.00  19.60\n",
       "634 2023-08-17 1480000.00  19.40\n",
       "635 2023-08-18 3630000.00  18.20\n",
       "\n",
       "[636 rows x 3 columns]"
      ]
     },
     "execution_count": 10,
     "metadata": {},
     "output_type": "execute_result"
    }
   ],
   "source": [
    "df"
   ]
  },
  {
   "cell_type": "code",
   "execution_count": 11,
   "id": "521afd4f-3fa9-4f5e-a6db-5aa966678067",
   "metadata": {},
   "outputs": [
    {
     "data": {
      "image/png": "[encoded data removed]",
      "text/plain": [
       "<Figure size 2000x300 with 1 Axes>"
      ]
     },
     "metadata": {},
     "output_type": "display_data"
    }
   ],
   "source": [
    "#data 633 x 4\n",
    "plt.figure(figsize=(20,3))\n",
    "plt.plot(df['Date'],df['Price'])\n",
    "plt.title('OCB Stock Price')\n",
    "plt.grid()\n",
    "#_ = plt.xticks(df.index.values, df['Month'], rotation=60)\n",
    "plt.show()"
   ]
  },
  {
   "cell_type": "markdown",
   "id": "1ccebc0f-7b50-4823-9628-c1971b5670e2",
   "metadata": {},
   "source": [
    "# Data Modeling"
   ]
  },
  {
   "cell_type": "markdown",
   "id": "1bd9ced3-8668-42a1-8068-d3c9d4602443",
   "metadata": {},
   "source": [
    "## Function"
   ]
  },
  {
   "cell_type": "code",
   "execution_count": 29,
   "id": "02431524-24e6-4243-861a-7f22ee9c341f",
   "metadata": {},
   "outputs": [],
   "source": [
    "def DataSplitting(df,TrainRatio=0.9):\n",
    "  '''\n",
    "  Split data\n",
    "  ----------\n",
    "  Attributes:\n",
    "  df : pd.DataFrame\n",
    "  TrainRatio: float, default = 0.9\n",
    "      train split ratio\n",
    "  ----------\n",
    "  Returns:\n",
    "  dataset : pd.DataFrame\n",
    "  splittingIndex: float\n",
    "      splitting index\n",
    "  ----------\n",
    "  Example:\n",
    "  dataset, splittingIndex = DataSplitting(df)\n",
    "  '''\n",
    "  # Create a new dataframe with only the 'Closed column\n",
    "  data = df['Price']\n",
    "  # Convert the dataframe to a numpy array\n",
    "  dataset = data.values\n",
    "  # Get the number of rows to train the model on --> Split the dataset\n",
    "  splittingIndex = int(np.ceil(len(dataset)*TrainRatio))\n",
    "  return dataset, splittingIndex\n",
    "\n",
    "def create_dataset(dataset, lookback):\n",
    "  '''\n",
    "  Transform timeseries into a prediction dataset\n",
    "  ----------\n",
    "  Args:\n",
    "   dataset: A np array of times series,\n",
    "   lookback: size of window for prediction\n",
    "  ----------\n",
    "  Example:\n",
    "  lookback = 20\n",
    "  X_train, y_train = create_dataset(dataset,lookback)\n",
    "  X_test y_test = create_dataset(dataset,lookback)\n",
    "  '''\n",
    "  X, y = [], []\n",
    "  for i in range(len(dataset) - lookback):\n",
    "    # Time series feature\n",
    "    feature = dataset[i:i+lookback]\n",
    "    # the Target is the next value\n",
    "    target = dataset[i+1:i+lookback+1]\n",
    "    X.append(feature)\n",
    "    y.append(target)\n",
    "  X = torch.tensor(X).unsqueeze(-1)\n",
    "  y = torch.tensor(y).unsqueeze(-1)\n",
    "  return X,y\n",
    "\n"
   ]
  },
  {
   "cell_type": "code",
   "execution_count": 30,
   "id": "6bdf2bf2-f0d4-4db0-b141-e3bfefef093e",
   "metadata": {},
   "outputs": [],
   "source": [
    "class LSTM_model(nn.Module):\n",
    "  '''\n",
    "  Long-Short Term Memory with 1 LSTM and 1 NN as classifier\n",
    "  if batch first --> input (batch, seq, feature) - (8,20,1)\n",
    "  '''\n",
    "  def __init__(self, input_dim=1, hidden_size=50, num_layers=1):\n",
    "    super(LSTM_model,self).__init__()\n",
    "    self.input_dim= input_dim\n",
    "    self.hidden_size= hidden_size\n",
    "    self.num_layers = num_layers\n",
    "    self.lstm = nn.LSTM(input_size=self.input_dim, hidden_size=self.hidden_size, num_layers=self.num_layers, batch_first=True)\n",
    "    # Classifier #  linear transformation, in_feature =50, out_one =1\n",
    "    self.linear = nn.Linear(self.hidden_size,1)\n",
    "\n",
    "  def forward(self,x):\n",
    "    x,_ = self.lstm(x)\n",
    "    x = self.linear(x)\n",
    "    return x\n",
    "\n",
    "\n",
    "class Conv_LSTM(nn.Module):\n",
    "  '''\n",
    "  2 Conv1D + LSTM with 1 LSTM and 1 NN as classifier\n",
    "  if batch first --> input (batch, seq, feature) - (8,20,1)- input (batch, seq, feature) - (8,20,1) - out torch.Size([8, 4, 1])\n",
    "  x torch.Size([8, 1, 20])\n",
    "  p torch.Size([8, 50, 4])\n",
    "  output torch.Size([8, 4, 50])\n",
    "  output torch.Size([8, 4, 1])\n",
    "  '''\n",
    "  def __init__(self, input_size=1, hidden_size=50, output_size= 1, num_layers=1):\n",
    "    super(Conv_LSTM,self).__init__()\n",
    "    self.input_size = input_size\n",
    "    self.hidden_size = hidden_size\n",
    "    self.output_size = output_size\n",
    "    self.num_layers = num_layers\n",
    "    # ConV - 2\n",
    "    self.c1 = nn.Conv1d(input_size, hidden_size, 2)\n",
    "    self.p1 = nn.AvgPool1d(2)\n",
    "    self.c2 = nn.Conv1d(hidden_size, hidden_size, 1)\n",
    "    self.p2 = nn.AvgPool1d(2)\n",
    "    # LSTM\n",
    "    self.lstm = nn.LSTM(input_size=self.hidden_size, hidden_size=self.hidden_size, num_layers=self.num_layers, batch_first=True)\n",
    "\n",
    "    # Classifier #  linear transformation, in_feature =50, out_one =1\n",
    "    self.linear = nn.Linear(self.hidden_size,self.output_size)\n",
    "\n",
    "\n",
    "  def forward(self,x):    # ((8,20,1))\n",
    "    x = x.transpose(1, 2) # torch.Size([8, 1, 20])\n",
    "    # print('x',x.size())\n",
    "        # Run through Conv1d and Pool1d layers: Conv1d+AvgPool -> Conv2d+AvgPool\n",
    "    c = self.c1(x)\n",
    "    p = self.p1(c)\n",
    "    c = self.c2(p)\n",
    "    p = self.p2(c)\n",
    "    #print('p',p.size()) # torch.Size([8,50, 4])\n",
    "    p = p.transpose(1, 2) # torch.Size([8,4, 50])\n",
    "    output, _ = self.lstm(p)\n",
    "    # print('output',output.size()) # torch.Size([8,4, 50])\n",
    "    output = self.linear(output)\n",
    "    # print('output',output.size()) # torch.Size([8,4, 1])\n",
    "    return output\n",
    "\n",
    "\n",
    "def test_model():\n",
    "  '''\n",
    "  # 8 - batch_size\n",
    "  # 20- feature- lookback\n",
    "  # 1 - series out of 8\n",
    "  # test_model()\n",
    "  '''\n",
    "  x = torch.randn((8,20,1))\n",
    "  model = LSTM_model()\n",
    "  preds = model(x)\n",
    "  print('x.shape',x.shape)\n",
    "  print(preds.shape)\n",
    "\n",
    "# test_model()\n",
    "# x.shape torch.Size([8, 20, 1])\n",
    "# torch.Size([8, 20, 1])"
   ]
  },
  {
   "cell_type": "code",
   "execution_count": 15,
   "id": "a5e88de8-24f7-4d81-b8bf-8b9a957349f9",
   "metadata": {},
   "outputs": [],
   "source": [
    "def train_fn(loader, model, optimizer, loss_fn, scaler,device):\n",
    "    '''\n",
    "    Training process\n",
    "    model = MODEL().to(DEVICE)\n",
    "    loss_fn = nn.CrossEntropyLoss()\n",
    "    optimizer = optim.Adam(model.parameters(), lr=LEARNING_RATE)\n",
    "    scaler = torch.cuda.amp.GradScaler()\n",
    "\n",
    "    for epoch in range(NUM_EPOCHS):\n",
    "      train_fn(trainLoader, model, optimizer, loss_fn, scaler,DEVICE)\n",
    "    '''\n",
    "    model.train()\n",
    "    loop = tqdm(loader)\n",
    "    running_loss =0\n",
    "    for batch_idx, (data, targets) in enumerate(loop):\n",
    "      # Get data to cuda if possible\n",
    "      data = data.float().to(device=device)\n",
    "      # Convert to the float and unsqueeze is reshape the target --> just 1 dimension\n",
    "      targets = targets.float().to(device=device)\n",
    "      # forward\n",
    "      with torch.cuda.amp.autocast():\n",
    "        '''\n",
    "        Instances of torch.autocast enable autocasting for chosen regions.\n",
    "        Autocasting automatically chooses the precision for GPU operations\n",
    "        to improve performance while maintaining accuracy.\n",
    "        '''\n",
    "        preds = model(data)\n",
    "        loss = loss_fn(preds, targets) #\n",
    "        running_loss += loss.item()\n",
    "\n",
    "      # backward\n",
    "      optimizer.zero_grad()\n",
    "      # Scales loss.  Calls backward() on scaled loss to create scaled gradients.\n",
    "      # Backward passes under autocast are not recommended.\n",
    "      # Backward ops run in the same dtype autocast chose for corresponding forward ops.\n",
    "      scaler.scale(loss).backward()\n",
    "      # scaler.step() first unscales the gradients of the optimizer's assigned params.\n",
    "      # If these gradients do not contain infs or NaNs, optimizer.step() is then called,\n",
    "      # otherwise, optimizer.step() is skipped.\n",
    "      scaler.step(optimizer)\n",
    "      # Updates the scale for next iteration.\n",
    "      scaler.update()\n",
    "\n",
    "      # update tqdm loop\n",
    "      loop.set_postfix(loss=loss.item())\n",
    "\n",
    "    return running_loss\n",
    "\n",
    "def val_fn(loader, model, loss_fn,device):\n",
    "    '''\n",
    "    Training process\n",
    "    model = MODEL().to(DEVICE)\n",
    "    loss_fn = nn.CrossEntropyLoss()\n",
    "    optimizer = optim.Adam(model.parameters(), lr=LEARNING_RATE)\n",
    "    scaler = torch.cuda.amp.GradScaler()\n",
    "\n",
    "    for epoch in range(NUM_EPOCHS):\n",
    "      train_fn(trainLoader, model, optimizer, loss_fn, scaler,DEVICE)\n",
    "    '''\n",
    "    model.eval()\n",
    "    running_loss =0\n",
    "    for data, targets in loader:\n",
    "      # Get data to cuda if possible\n",
    "      data = data.float().to(device=device)\n",
    "      targets = targets.float().to(device=device)\n",
    "\n",
    "      # forward\n",
    "      with torch.cuda.amp.autocast():\n",
    "        preds = model(data)\n",
    "        loss = loss_fn(preds, targets) #\n",
    "        running_loss += loss.item()\n",
    "    return running_loss"
   ]
  },
  {
   "cell_type": "code",
   "execution_count": 16,
   "id": "a2d8051c-389b-41b9-9827-22aca6f7dd3d",
   "metadata": {},
   "outputs": [],
   "source": [
    "def train_fn_C_LSTM(loader, model, optimizer, loss_fn, scaler,device):\n",
    "    '''\n",
    "    Training process\n",
    "    model = MODEL().to(DEVICE)\n",
    "    loss_fn = nn.CrossEntropyLoss()\n",
    "    optimizer = optim.Adam(model.parameters(), lr=LEARNING_RATE)\n",
    "    scaler = torch.cuda.amp.GradScaler()\n",
    "\n",
    "    for epoch in range(NUM_EPOCHS):\n",
    "      train_fn(trainLoader, model, optimizer, loss_fn, scaler,DEVICE)\n",
    "    '''\n",
    "    model.train()\n",
    "    loop = tqdm(loader)\n",
    "    running_loss =0\n",
    "    for batch_idx, (data, targets) in enumerate(loop):\n",
    "      # Get data to cuda if possible\n",
    "      data = data.float().to(device=device)\n",
    "      # Convert to the float and unsqueeze is reshape the target --> just 1 dimension\n",
    "      targets = targets.float().to(device=device)\n",
    "      # forward\n",
    "      with torch.cuda.amp.autocast():\n",
    "        '''\n",
    "        Instances of torch.autocast enable autocasting for chosen regions.\n",
    "        Autocasting automatically chooses the precision for GPU operations\n",
    "        to improve performance while maintaining accuracy.\n",
    "        '''\n",
    "        preds = model(data)\n",
    "        loss = loss_fn(preds, targets) #\n",
    "        running_loss += loss.item()\n",
    "\n",
    "      # backward\n",
    "      optimizer.zero_grad()\n",
    "      # Scales loss.  Calls backward() on scaled loss to create scaled gradients.\n",
    "      # Backward passes under autocast are not recommended.\n",
    "      # Backward ops run in the same dtype autocast chose for corresponding forward ops.\n",
    "      scaler.scale(loss).backward()\n",
    "      # scaler.step() first unscales the gradients of the optimizer's assigned params.\n",
    "      # If these gradients do not contain infs or NaNs, optimizer.step() is then called,\n",
    "      # otherwise, optimizer.step() is skipped.\n",
    "      scaler.step(optimizer)\n",
    "      # Updates the scale for next iteration.\n",
    "      scaler.update()\n",
    "\n",
    "      # update tqdm loop\n",
    "      loop.set_postfix(loss=loss.item())\n",
    "\n",
    "    return running_loss\n",
    "\n",
    "def val_fn_C_LSTM(loader, model, loss_fn,device):\n",
    "    '''\n",
    "    Training process\n",
    "    model = MODEL().to(DEVICE)\n",
    "    loss_fn = nn.CrossEntropyLoss()\n",
    "    optimizer = optim.Adam(model.parameters(), lr=LEARNING_RATE)\n",
    "    scaler = torch.cuda.amp.GradScaler()\n",
    "\n",
    "    for epoch in range(NUM_EPOCHS):\n",
    "      train_fn(trainLoader, model, optimizer, loss_fn, scaler,DEVICE)\n",
    "    '''\n",
    "    model.eval()\n",
    "    running_loss =0\n",
    "    for data, targets in loader:\n",
    "      # Get data to cuda if possible\n",
    "      data = data.float().to(device=device)\n",
    "      targets = targets.float().to(device=device)\n",
    "\n",
    "      # forward\n",
    "      with torch.cuda.amp.autocast():\n",
    "        preds = model(data)\n",
    "        loss = loss_fn(preds, targets) #\n",
    "        running_loss += loss.item()\n",
    "    return running_loss"
   ]
  },
  {
   "cell_type": "markdown",
   "id": "58313628-27d3-4d78-bcd9-6dea51ceb041",
   "metadata": {},
   "source": [
    "## Data Splitting"
   ]
  },
  {
   "cell_type": "code",
   "execution_count": 18,
   "id": "99190314-a5db-4029-94d0-a5edc91a4325",
   "metadata": {},
   "outputs": [],
   "source": [
    "### main.py\n",
    "lookback = 20\n",
    "TrainRatio = 0.9\n",
    "dataset, splittingIndex = DataSplitting(df,TrainRatio)\n",
    "X_train, y_train = create_dataset(dataset[:splittingIndex-lookback],lookback)\n",
    "X_test, y_test = create_dataset(dataset[splittingIndex-lookback:],lookback)\n",
    "\n",
    "# Batch Processing - # train loader ([8,20,1])\n",
    "trainLoader = DataLoader(TensorDataset(X_train,y_train),batch_size = BATCH_SIZE,num_workers = NUM_WORKERS,pin_memory = PIN_MEMORY,shuffle=True)\n",
    "testLoader = DataLoader(TensorDataset(X_test,y_test),batch_size = BATCH_SIZE,num_workers = NUM_WORKERS,pin_memory = PIN_MEMORY,shuffle=True)\n",
    "\n",
    "# Initialization\n",
    "#model = MODEL().to(DEVICE)\n",
    "model = LSTM_model().to(DEVICE)\n",
    "# model = Conv_LSTM().to(DEVICE)\n",
    "loss_fn = nn.MSELoss() # binary cross entropy loss function\n",
    "optimizer = torch.optim.Adam(model.parameters(), lr=LEARNING_RATE)\n",
    "scaler = torch.cuda.amp.GradScaler()\n",
    "\n",
    "# # Load model\n",
    "# if LOAD_MODEL:\n",
    "#   if not os.path.exists(savePath):\n",
    "#     os.makedirs(savePath)\n",
    "#   load_checkpoint(torch.load(savePath+ 'my_checkpoint.pth.tar'), model)\n",
    "\n",
    "train_acc = []\n",
    "train_loss = []\n",
    "val_loss = []\n"
   ]
  },
  {
   "cell_type": "code",
   "execution_count": 19,
   "id": "cd91c062-72e4-49d9-9206-0fac0a4c3800",
   "metadata": {
    "collapsed": true,
    "jupyter": {
     "outputs_hidden": true
    }
   },
   "outputs": [
    {
     "name": "stdout",
     "output_type": "stream",
     "text": [
      "The Epoch: 0/100\n"
     ]
    },
    {
     "name": "stderr",
     "output_type": "stream",
     "text": [
      "100%|█████████████████████████████████| 67/67 [00:01<00:00, 40.15it/s, loss=491]\n"
     ]
    },
    {
     "name": "stdout",
     "output_type": "stream",
     "text": [
      "The Epoch: 1/100\n"
     ]
    },
    {
     "name": "stderr",
     "output_type": "stream",
     "text": [
      "100%|█████████████████████████████████| 67/67 [00:01<00:00, 48.35it/s, loss=580]\n"
     ]
    },
    {
     "name": "stdout",
     "output_type": "stream",
     "text": [
      "The Epoch: 2/100\n"
     ]
    },
    {
     "name": "stderr",
     "output_type": "stream",
     "text": [
      "100%|█████████████████████████████████| 67/67 [00:01<00:00, 60.59it/s, loss=482]\n"
     ]
    },
    {
     "name": "stdout",
     "output_type": "stream",
     "text": [
      "The Epoch: 3/100\n"
     ]
    },
    {
     "name": "stderr",
     "output_type": "stream",
     "text": [
      "100%|█████████████████████████████████| 67/67 [00:00<00:00, 69.29it/s, loss=337]\n"
     ]
    },
    {
     "name": "stdout",
     "output_type": "stream",
     "text": [
      "The Epoch: 4/100\n"
     ]
    },
    {
     "name": "stderr",
     "output_type": "stream",
     "text": [
      "100%|█████████████████████████████████| 67/67 [00:01<00:00, 48.86it/s, loss=339]\n"
     ]
    },
    {
     "name": "stdout",
     "output_type": "stream",
     "text": [
      "The Epoch: 5/100\n"
     ]
    },
    {
     "name": "stderr",
     "output_type": "stream",
     "text": [
      "100%|█████████████████████████████████| 67/67 [00:00<00:00, 72.33it/s, loss=370]\n"
     ]
    },
    {
     "name": "stdout",
     "output_type": "stream",
     "text": [
      "The Epoch: 6/100\n"
     ]
    },
    {
     "name": "stderr",
     "output_type": "stream",
     "text": [
      "100%|█████████████████████████████████| 67/67 [00:01<00:00, 66.50it/s, loss=246]\n"
     ]
    },
    {
     "name": "stdout",
     "output_type": "stream",
     "text": [
      "The Epoch: 7/100\n"
     ]
    },
    {
     "name": "stderr",
     "output_type": "stream",
     "text": [
      "100%|█████████████████████████████████| 67/67 [00:01<00:00, 51.23it/s, loss=296]\n"
     ]
    },
    {
     "name": "stdout",
     "output_type": "stream",
     "text": [
      "The Epoch: 8/100\n"
     ]
    },
    {
     "name": "stderr",
     "output_type": "stream",
     "text": [
      "100%|█████████████████████████████████| 67/67 [00:01<00:00, 45.91it/s, loss=232]\n"
     ]
    },
    {
     "name": "stdout",
     "output_type": "stream",
     "text": [
      "The Epoch: 9/100\n"
     ]
    },
    {
     "name": "stderr",
     "output_type": "stream",
     "text": [
      "100%|█████████████████████████████████| 67/67 [00:01<00:00, 43.53it/s, loss=230]\n"
     ]
    },
    {
     "name": "stdout",
     "output_type": "stream",
     "text": [
      "The Epoch: 10/100\n"
     ]
    },
    {
     "name": "stderr",
     "output_type": "stream",
     "text": [
      "100%|█████████████████████████████████| 67/67 [00:01<00:00, 58.20it/s, loss=172]\n"
     ]
    },
    {
     "name": "stdout",
     "output_type": "stream",
     "text": [
      "The Epoch: 11/100\n"
     ]
    },
    {
     "name": "stderr",
     "output_type": "stream",
     "text": [
      "100%|█████████████████████████████████| 67/67 [00:01<00:00, 63.11it/s, loss=299]\n"
     ]
    },
    {
     "name": "stdout",
     "output_type": "stream",
     "text": [
      "The Epoch: 12/100\n"
     ]
    },
    {
     "name": "stderr",
     "output_type": "stream",
     "text": [
      "100%|█████████████████████████████████| 67/67 [00:01<00:00, 39.15it/s, loss=304]\n"
     ]
    },
    {
     "name": "stdout",
     "output_type": "stream",
     "text": [
      "The Epoch: 13/100\n"
     ]
    },
    {
     "name": "stderr",
     "output_type": "stream",
     "text": [
      "100%|█████████████████████████████████| 67/67 [00:00<00:00, 69.45it/s, loss=215]\n"
     ]
    },
    {
     "name": "stdout",
     "output_type": "stream",
     "text": [
      "The Epoch: 14/100\n"
     ]
    },
    {
     "name": "stderr",
     "output_type": "stream",
     "text": [
      "100%|█████████████████████████████████| 67/67 [00:01<00:00, 65.82it/s, loss=238]\n"
     ]
    },
    {
     "name": "stdout",
     "output_type": "stream",
     "text": [
      "The Epoch: 15/100\n"
     ]
    },
    {
     "name": "stderr",
     "output_type": "stream",
     "text": [
      "100%|█████████████████████████████████| 67/67 [00:01<00:00, 64.72it/s, loss=183]\n"
     ]
    },
    {
     "name": "stdout",
     "output_type": "stream",
     "text": [
      "The Epoch: 16/100\n"
     ]
    },
    {
     "name": "stderr",
     "output_type": "stream",
     "text": [
      "100%|████████████████████████████████| 67/67 [00:01<00:00, 48.73it/s, loss=94.4]\n"
     ]
    },
    {
     "name": "stdout",
     "output_type": "stream",
     "text": [
      "The Epoch: 17/100\n"
     ]
    },
    {
     "name": "stderr",
     "output_type": "stream",
     "text": [
      "100%|█████████████████████████████████| 67/67 [00:02<00:00, 28.05it/s, loss=138]\n"
     ]
    },
    {
     "name": "stdout",
     "output_type": "stream",
     "text": [
      "The Epoch: 18/100\n"
     ]
    },
    {
     "name": "stderr",
     "output_type": "stream",
     "text": [
      "100%|█████████████████████████████████| 67/67 [00:01<00:00, 39.29it/s, loss=111]\n"
     ]
    },
    {
     "name": "stdout",
     "output_type": "stream",
     "text": [
      "The Epoch: 19/100\n"
     ]
    },
    {
     "name": "stderr",
     "output_type": "stream",
     "text": [
      "100%|█████████████████████████████████| 67/67 [00:01<00:00, 52.97it/s, loss=135]\n"
     ]
    },
    {
     "name": "stdout",
     "output_type": "stream",
     "text": [
      "The Epoch: 20/100\n"
     ]
    },
    {
     "name": "stderr",
     "output_type": "stream",
     "text": [
      "100%|████████████████████████████████| 67/67 [00:01<00:00, 52.66it/s, loss=98.4]\n"
     ]
    },
    {
     "name": "stdout",
     "output_type": "stream",
     "text": [
      "The Epoch: 21/100\n"
     ]
    },
    {
     "name": "stderr",
     "output_type": "stream",
     "text": [
      "100%|████████████████████████████████| 67/67 [00:01<00:00, 44.12it/s, loss=93.6]\n"
     ]
    },
    {
     "name": "stdout",
     "output_type": "stream",
     "text": [
      "The Epoch: 22/100\n"
     ]
    },
    {
     "name": "stderr",
     "output_type": "stream",
     "text": [
      "100%|████████████████████████████████| 67/67 [00:00<00:00, 67.69it/s, loss=77.8]\n"
     ]
    },
    {
     "name": "stdout",
     "output_type": "stream",
     "text": [
      "The Epoch: 23/100\n"
     ]
    },
    {
     "name": "stderr",
     "output_type": "stream",
     "text": [
      "100%|█████████████████████████████████| 67/67 [00:01<00:00, 56.28it/s, loss=134]\n"
     ]
    },
    {
     "name": "stdout",
     "output_type": "stream",
     "text": [
      "The Epoch: 24/100\n"
     ]
    },
    {
     "name": "stderr",
     "output_type": "stream",
     "text": [
      "100%|█████████████████████████████████| 67/67 [00:01<00:00, 60.22it/s, loss=190]\n"
     ]
    },
    {
     "name": "stdout",
     "output_type": "stream",
     "text": [
      "The Epoch: 25/100\n"
     ]
    },
    {
     "name": "stderr",
     "output_type": "stream",
     "text": [
      "100%|████████████████████████████████| 67/67 [00:00<00:00, 96.54it/s, loss=85.9]\n"
     ]
    },
    {
     "name": "stdout",
     "output_type": "stream",
     "text": [
      "The Epoch: 26/100\n"
     ]
    },
    {
     "name": "stderr",
     "output_type": "stream",
     "text": [
      "100%|████████████████████████████████| 67/67 [00:00<00:00, 94.96it/s, loss=80.5]\n"
     ]
    },
    {
     "name": "stdout",
     "output_type": "stream",
     "text": [
      "The Epoch: 27/100\n"
     ]
    },
    {
     "name": "stderr",
     "output_type": "stream",
     "text": [
      "100%|███████████████████████████████| 67/67 [00:00<00:00, 101.41it/s, loss=83.3]\n"
     ]
    },
    {
     "name": "stdout",
     "output_type": "stream",
     "text": [
      "The Epoch: 28/100\n"
     ]
    },
    {
     "name": "stderr",
     "output_type": "stream",
     "text": [
      "100%|█████████████████████████████████| 67/67 [00:00<00:00, 86.88it/s, loss=104]\n"
     ]
    },
    {
     "name": "stdout",
     "output_type": "stream",
     "text": [
      "The Epoch: 29/100\n"
     ]
    },
    {
     "name": "stderr",
     "output_type": "stream",
     "text": [
      "100%|████████████████████████████████| 67/67 [00:00<00:00, 76.33it/s, loss=58.7]\n"
     ]
    },
    {
     "name": "stdout",
     "output_type": "stream",
     "text": [
      "The Epoch: 30/100\n"
     ]
    },
    {
     "name": "stderr",
     "output_type": "stream",
     "text": [
      "100%|████████████████████████████████| 67/67 [00:01<00:00, 54.65it/s, loss=60.1]\n"
     ]
    },
    {
     "name": "stdout",
     "output_type": "stream",
     "text": [
      "The Epoch: 31/100\n"
     ]
    },
    {
     "name": "stderr",
     "output_type": "stream",
     "text": [
      "100%|████████████████████████████████| 67/67 [00:00<00:00, 88.61it/s, loss=67.6]\n"
     ]
    },
    {
     "name": "stdout",
     "output_type": "stream",
     "text": [
      "The Epoch: 32/100\n"
     ]
    },
    {
     "name": "stderr",
     "output_type": "stream",
     "text": [
      "100%|████████████████████████████████| 67/67 [00:02<00:00, 30.65it/s, loss=69.3]\n"
     ]
    },
    {
     "name": "stdout",
     "output_type": "stream",
     "text": [
      "The Epoch: 33/100\n"
     ]
    },
    {
     "name": "stderr",
     "output_type": "stream",
     "text": [
      "100%|████████████████████████████████| 67/67 [00:01<00:00, 44.17it/s, loss=37.8]\n"
     ]
    },
    {
     "name": "stdout",
     "output_type": "stream",
     "text": [
      "The Epoch: 34/100\n"
     ]
    },
    {
     "name": "stderr",
     "output_type": "stream",
     "text": [
      "100%|████████████████████████████████| 67/67 [00:00<00:00, 80.89it/s, loss=50.5]\n"
     ]
    },
    {
     "name": "stdout",
     "output_type": "stream",
     "text": [
      "The Epoch: 35/100\n"
     ]
    },
    {
     "name": "stderr",
     "output_type": "stream",
     "text": [
      "100%|████████████████████████████████| 67/67 [00:00<00:00, 74.00it/s, loss=61.8]\n"
     ]
    },
    {
     "name": "stdout",
     "output_type": "stream",
     "text": [
      "The Epoch: 36/100\n"
     ]
    },
    {
     "name": "stderr",
     "output_type": "stream",
     "text": [
      "100%|██████████████████████████████████| 67/67 [00:03<00:00, 19.86it/s, loss=38]\n"
     ]
    },
    {
     "name": "stdout",
     "output_type": "stream",
     "text": [
      "The Epoch: 37/100\n"
     ]
    },
    {
     "name": "stderr",
     "output_type": "stream",
     "text": [
      "100%|█████████████████████████████████| 67/67 [00:01<00:00, 57.92it/s, loss=115]\n"
     ]
    },
    {
     "name": "stdout",
     "output_type": "stream",
     "text": [
      "The Epoch: 38/100\n"
     ]
    },
    {
     "name": "stderr",
     "output_type": "stream",
     "text": [
      "100%|████████████████████████████████| 67/67 [00:00<00:00, 85.51it/s, loss=50.9]\n"
     ]
    },
    {
     "name": "stdout",
     "output_type": "stream",
     "text": [
      "The Epoch: 39/100\n"
     ]
    },
    {
     "name": "stderr",
     "output_type": "stream",
     "text": [
      "100%|███████████████████████████████| 67/67 [00:00<00:00, 107.02it/s, loss=52.6]\n"
     ]
    },
    {
     "name": "stdout",
     "output_type": "stream",
     "text": [
      "The Epoch: 40/100\n"
     ]
    },
    {
     "name": "stderr",
     "output_type": "stream",
     "text": [
      "100%|███████████████████████████████| 67/67 [00:00<00:00, 100.37it/s, loss=76.5]\n"
     ]
    },
    {
     "name": "stdout",
     "output_type": "stream",
     "text": [
      "The Epoch: 41/100\n"
     ]
    },
    {
     "name": "stderr",
     "output_type": "stream",
     "text": [
      "100%|████████████████████████████████| 67/67 [00:00<00:00, 69.48it/s, loss=38.5]\n"
     ]
    },
    {
     "name": "stdout",
     "output_type": "stream",
     "text": [
      "The Epoch: 42/100\n"
     ]
    },
    {
     "name": "stderr",
     "output_type": "stream",
     "text": [
      "100%|██████████████████████████████████| 67/67 [00:00<00:00, 92.10it/s, loss=26]\n"
     ]
    },
    {
     "name": "stdout",
     "output_type": "stream",
     "text": [
      "The Epoch: 43/100\n"
     ]
    },
    {
     "name": "stderr",
     "output_type": "stream",
     "text": [
      "100%|████████████████████████████████| 67/67 [00:00<00:00, 91.01it/s, loss=29.3]\n"
     ]
    },
    {
     "name": "stdout",
     "output_type": "stream",
     "text": [
      "The Epoch: 44/100\n"
     ]
    },
    {
     "name": "stderr",
     "output_type": "stream",
     "text": [
      "100%|██████████████████████████████████| 67/67 [00:00<00:00, 70.81it/s, loss=35]\n"
     ]
    },
    {
     "name": "stdout",
     "output_type": "stream",
     "text": [
      "The Epoch: 45/100\n"
     ]
    },
    {
     "name": "stderr",
     "output_type": "stream",
     "text": [
      "100%|████████████████████████████████| 67/67 [00:00<00:00, 86.06it/s, loss=32.6]\n"
     ]
    },
    {
     "name": "stdout",
     "output_type": "stream",
     "text": [
      "The Epoch: 46/100\n"
     ]
    },
    {
     "name": "stderr",
     "output_type": "stream",
     "text": [
      "100%|███████████████████████████████| 67/67 [00:00<00:00, 100.25it/s, loss=28.7]\n"
     ]
    },
    {
     "name": "stdout",
     "output_type": "stream",
     "text": [
      "The Epoch: 47/100\n"
     ]
    },
    {
     "name": "stderr",
     "output_type": "stream",
     "text": [
      "100%|████████████████████████████████| 67/67 [00:00<00:00, 87.93it/s, loss=30.6]\n"
     ]
    },
    {
     "name": "stdout",
     "output_type": "stream",
     "text": [
      "The Epoch: 48/100\n"
     ]
    },
    {
     "name": "stderr",
     "output_type": "stream",
     "text": [
      "100%|███████████████████████████████| 67/67 [00:00<00:00, 100.18it/s, loss=43.3]\n"
     ]
    },
    {
     "name": "stdout",
     "output_type": "stream",
     "text": [
      "The Epoch: 49/100\n"
     ]
    },
    {
     "name": "stderr",
     "output_type": "stream",
     "text": [
      "100%|████████████████████████████████| 67/67 [00:00<00:00, 83.03it/s, loss=24.9]\n"
     ]
    },
    {
     "name": "stdout",
     "output_type": "stream",
     "text": [
      "The Epoch: 50/100\n"
     ]
    },
    {
     "name": "stderr",
     "output_type": "stream",
     "text": [
      "100%|███████████████████████████████| 67/67 [00:00<00:00, 111.93it/s, loss=43.1]\n"
     ]
    },
    {
     "name": "stdout",
     "output_type": "stream",
     "text": [
      "The Epoch: 51/100\n"
     ]
    },
    {
     "name": "stderr",
     "output_type": "stream",
     "text": [
      "100%|███████████████████████████████| 67/67 [00:00<00:00, 102.28it/s, loss=48.7]\n"
     ]
    },
    {
     "name": "stdout",
     "output_type": "stream",
     "text": [
      "The Epoch: 52/100\n"
     ]
    },
    {
     "name": "stderr",
     "output_type": "stream",
     "text": [
      "100%|███████████████████████████████| 67/67 [00:00<00:00, 113.55it/s, loss=23.2]\n"
     ]
    },
    {
     "name": "stdout",
     "output_type": "stream",
     "text": [
      "The Epoch: 53/100\n"
     ]
    },
    {
     "name": "stderr",
     "output_type": "stream",
     "text": [
      "100%|████████████████████████████████| 67/67 [00:00<00:00, 98.28it/s, loss=28.4]\n"
     ]
    },
    {
     "name": "stdout",
     "output_type": "stream",
     "text": [
      "The Epoch: 54/100\n"
     ]
    },
    {
     "name": "stderr",
     "output_type": "stream",
     "text": [
      "100%|█████████████████████████████████| 67/67 [00:00<00:00, 106.70it/s, loss=33]\n"
     ]
    },
    {
     "name": "stdout",
     "output_type": "stream",
     "text": [
      "The Epoch: 55/100\n"
     ]
    },
    {
     "name": "stderr",
     "output_type": "stream",
     "text": [
      "100%|███████████████████████████████| 67/67 [00:00<00:00, 113.27it/s, loss=38.2]\n"
     ]
    },
    {
     "name": "stdout",
     "output_type": "stream",
     "text": [
      "The Epoch: 56/100\n"
     ]
    },
    {
     "name": "stderr",
     "output_type": "stream",
     "text": [
      "100%|██████████████████████████████████| 67/67 [00:00<00:00, 94.30it/s, loss=11]\n"
     ]
    },
    {
     "name": "stdout",
     "output_type": "stream",
     "text": [
      "The Epoch: 57/100\n"
     ]
    },
    {
     "name": "stderr",
     "output_type": "stream",
     "text": [
      "100%|███████████████████████████████| 67/67 [00:00<00:00, 113.93it/s, loss=24.1]\n"
     ]
    },
    {
     "name": "stdout",
     "output_type": "stream",
     "text": [
      "The Epoch: 58/100\n"
     ]
    },
    {
     "name": "stderr",
     "output_type": "stream",
     "text": [
      "100%|█████████████████████████████████| 67/67 [00:00<00:00, 115.39it/s, loss=27]\n"
     ]
    },
    {
     "name": "stdout",
     "output_type": "stream",
     "text": [
      "The Epoch: 59/100\n"
     ]
    },
    {
     "name": "stderr",
     "output_type": "stream",
     "text": [
      "100%|███████████████████████████████| 67/67 [00:00<00:00, 111.76it/s, loss=36.4]\n"
     ]
    },
    {
     "name": "stdout",
     "output_type": "stream",
     "text": [
      "The Epoch: 60/100\n"
     ]
    },
    {
     "name": "stderr",
     "output_type": "stream",
     "text": [
      "100%|████████████████████████████████| 67/67 [00:00<00:00, 79.70it/s, loss=28.2]\n"
     ]
    },
    {
     "name": "stdout",
     "output_type": "stream",
     "text": [
      "The Epoch: 61/100\n"
     ]
    },
    {
     "name": "stderr",
     "output_type": "stream",
     "text": [
      "100%|███████████████████████████████| 67/67 [00:00<00:00, 103.65it/s, loss=43.3]\n"
     ]
    },
    {
     "name": "stdout",
     "output_type": "stream",
     "text": [
      "The Epoch: 62/100\n"
     ]
    },
    {
     "name": "stderr",
     "output_type": "stream",
     "text": [
      "100%|███████████████████████████████| 67/67 [00:00<00:00, 106.43it/s, loss=22.6]\n"
     ]
    },
    {
     "name": "stdout",
     "output_type": "stream",
     "text": [
      "The Epoch: 63/100\n"
     ]
    },
    {
     "name": "stderr",
     "output_type": "stream",
     "text": [
      "100%|████████████████████████████████| 67/67 [00:00<00:00, 94.19it/s, loss=8.18]\n"
     ]
    },
    {
     "name": "stdout",
     "output_type": "stream",
     "text": [
      "The Epoch: 64/100\n"
     ]
    },
    {
     "name": "stderr",
     "output_type": "stream",
     "text": [
      "100%|████████████████████████████████| 67/67 [00:00<00:00, 92.43it/s, loss=4.75]\n"
     ]
    },
    {
     "name": "stdout",
     "output_type": "stream",
     "text": [
      "The Epoch: 65/100\n"
     ]
    },
    {
     "name": "stderr",
     "output_type": "stream",
     "text": [
      "100%|████████████████████████████████| 67/67 [00:00<00:00, 68.14it/s, loss=9.04]\n"
     ]
    },
    {
     "name": "stdout",
     "output_type": "stream",
     "text": [
      "The Epoch: 66/100\n"
     ]
    },
    {
     "name": "stderr",
     "output_type": "stream",
     "text": [
      "100%|████████████████████████████████| 67/67 [00:00<00:00, 80.36it/s, loss=14.3]\n"
     ]
    },
    {
     "name": "stdout",
     "output_type": "stream",
     "text": [
      "The Epoch: 67/100\n"
     ]
    },
    {
     "name": "stderr",
     "output_type": "stream",
     "text": [
      "100%|██████████████████████████████████| 67/67 [00:01<00:00, 66.39it/s, loss=12]\n"
     ]
    },
    {
     "name": "stdout",
     "output_type": "stream",
     "text": [
      "The Epoch: 68/100\n"
     ]
    },
    {
     "name": "stderr",
     "output_type": "stream",
     "text": [
      "100%|████████████████████████████████| 67/67 [00:02<00:00, 26.88it/s, loss=18.8]\n"
     ]
    },
    {
     "name": "stdout",
     "output_type": "stream",
     "text": [
      "The Epoch: 69/100\n"
     ]
    },
    {
     "name": "stderr",
     "output_type": "stream",
     "text": [
      "100%|████████████████████████████████| 67/67 [00:02<00:00, 31.92it/s, loss=31.2]\n"
     ]
    },
    {
     "name": "stdout",
     "output_type": "stream",
     "text": [
      "The Epoch: 70/100\n"
     ]
    },
    {
     "name": "stderr",
     "output_type": "stream",
     "text": [
      "100%|████████████████████████████████| 67/67 [00:01<00:00, 34.86it/s, loss=27.2]\n"
     ]
    },
    {
     "name": "stdout",
     "output_type": "stream",
     "text": [
      "The Epoch: 71/100\n"
     ]
    },
    {
     "name": "stderr",
     "output_type": "stream",
     "text": [
      "100%|████████████████████████████████| 67/67 [00:01<00:00, 48.88it/s, loss=18.8]\n"
     ]
    },
    {
     "name": "stdout",
     "output_type": "stream",
     "text": [
      "The Epoch: 72/100\n"
     ]
    },
    {
     "name": "stderr",
     "output_type": "stream",
     "text": [
      "100%|████████████████████████████████| 67/67 [00:01<00:00, 35.71it/s, loss=20.2]\n"
     ]
    },
    {
     "name": "stdout",
     "output_type": "stream",
     "text": [
      "The Epoch: 73/100\n"
     ]
    },
    {
     "name": "stderr",
     "output_type": "stream",
     "text": [
      "100%|██████████████████████████████████| 67/67 [00:01<00:00, 47.93it/s, loss=34]\n"
     ]
    },
    {
     "name": "stdout",
     "output_type": "stream",
     "text": [
      "The Epoch: 74/100\n"
     ]
    },
    {
     "name": "stderr",
     "output_type": "stream",
     "text": [
      "100%|████████████████████████████████| 67/67 [00:01<00:00, 47.08it/s, loss=25.8]\n"
     ]
    },
    {
     "name": "stdout",
     "output_type": "stream",
     "text": [
      "The Epoch: 75/100\n"
     ]
    },
    {
     "name": "stderr",
     "output_type": "stream",
     "text": [
      "100%|████████████████████████████████| 67/67 [00:01<00:00, 44.23it/s, loss=28.4]\n"
     ]
    },
    {
     "name": "stdout",
     "output_type": "stream",
     "text": [
      "The Epoch: 76/100\n"
     ]
    },
    {
     "name": "stderr",
     "output_type": "stream",
     "text": [
      "100%|████████████████████████████████| 67/67 [00:01<00:00, 39.77it/s, loss=16.6]\n"
     ]
    },
    {
     "name": "stdout",
     "output_type": "stream",
     "text": [
      "The Epoch: 77/100\n"
     ]
    },
    {
     "name": "stderr",
     "output_type": "stream",
     "text": [
      "100%|████████████████████████████████| 67/67 [00:02<00:00, 28.45it/s, loss=16.9]\n"
     ]
    },
    {
     "name": "stdout",
     "output_type": "stream",
     "text": [
      "The Epoch: 78/100\n"
     ]
    },
    {
     "name": "stderr",
     "output_type": "stream",
     "text": [
      "100%|██████████████████████████████████| 67/67 [00:01<00:00, 41.27it/s, loss=19]\n"
     ]
    },
    {
     "name": "stdout",
     "output_type": "stream",
     "text": [
      "The Epoch: 79/100\n"
     ]
    },
    {
     "name": "stderr",
     "output_type": "stream",
     "text": [
      "100%|████████████████████████████████| 67/67 [00:01<00:00, 40.72it/s, loss=21.5]\n"
     ]
    },
    {
     "name": "stdout",
     "output_type": "stream",
     "text": [
      "The Epoch: 80/100\n"
     ]
    },
    {
     "name": "stderr",
     "output_type": "stream",
     "text": [
      "100%|████████████████████████████████| 67/67 [00:01<00:00, 40.46it/s, loss=18.5]\n"
     ]
    },
    {
     "name": "stdout",
     "output_type": "stream",
     "text": [
      "The Epoch: 81/100\n"
     ]
    },
    {
     "name": "stderr",
     "output_type": "stream",
     "text": [
      "100%|████████████████████████████████| 67/67 [00:01<00:00, 45.89it/s, loss=12.7]\n"
     ]
    },
    {
     "name": "stdout",
     "output_type": "stream",
     "text": [
      "The Epoch: 82/100\n"
     ]
    },
    {
     "name": "stderr",
     "output_type": "stream",
     "text": [
      "100%|████████████████████████████████| 67/67 [00:02<00:00, 31.58it/s, loss=25.4]\n"
     ]
    },
    {
     "name": "stdout",
     "output_type": "stream",
     "text": [
      "The Epoch: 83/100\n"
     ]
    },
    {
     "name": "stderr",
     "output_type": "stream",
     "text": [
      "100%|████████████████████████████████| 67/67 [00:02<00:00, 25.26it/s, loss=13.8]\n"
     ]
    },
    {
     "name": "stdout",
     "output_type": "stream",
     "text": [
      "The Epoch: 84/100\n"
     ]
    },
    {
     "name": "stderr",
     "output_type": "stream",
     "text": [
      "100%|████████████████████████████████| 67/67 [00:03<00:00, 22.19it/s, loss=20.3]\n"
     ]
    },
    {
     "name": "stdout",
     "output_type": "stream",
     "text": [
      "The Epoch: 85/100\n"
     ]
    },
    {
     "name": "stderr",
     "output_type": "stream",
     "text": [
      "100%|██████████████████████████████████| 67/67 [00:01<00:00, 38.58it/s, loss=14]\n"
     ]
    },
    {
     "name": "stdout",
     "output_type": "stream",
     "text": [
      "The Epoch: 86/100\n"
     ]
    },
    {
     "name": "stderr",
     "output_type": "stream",
     "text": [
      "100%|████████████████████████████████| 67/67 [00:02<00:00, 27.96it/s, loss=13.6]\n"
     ]
    },
    {
     "name": "stdout",
     "output_type": "stream",
     "text": [
      "The Epoch: 87/100\n"
     ]
    },
    {
     "name": "stderr",
     "output_type": "stream",
     "text": [
      "100%|████████████████████████████████| 67/67 [00:01<00:00, 35.51it/s, loss=2.61]\n"
     ]
    },
    {
     "name": "stdout",
     "output_type": "stream",
     "text": [
      "The Epoch: 88/100\n"
     ]
    },
    {
     "name": "stderr",
     "output_type": "stream",
     "text": [
      "100%|████████████████████████████████| 67/67 [00:01<00:00, 41.20it/s, loss=13.2]\n"
     ]
    },
    {
     "name": "stdout",
     "output_type": "stream",
     "text": [
      "The Epoch: 89/100\n"
     ]
    },
    {
     "name": "stderr",
     "output_type": "stream",
     "text": [
      "100%|████████████████████████████████| 67/67 [00:02<00:00, 32.64it/s, loss=12.7]\n"
     ]
    },
    {
     "name": "stdout",
     "output_type": "stream",
     "text": [
      "The Epoch: 90/100\n"
     ]
    },
    {
     "name": "stderr",
     "output_type": "stream",
     "text": [
      "100%|████████████████████████████████| 67/67 [00:01<00:00, 38.51it/s, loss=4.22]\n"
     ]
    },
    {
     "name": "stdout",
     "output_type": "stream",
     "text": [
      "The Epoch: 91/100\n"
     ]
    },
    {
     "name": "stderr",
     "output_type": "stream",
     "text": [
      "100%|████████████████████████████████| 67/67 [00:01<00:00, 37.75it/s, loss=4.23]\n"
     ]
    },
    {
     "name": "stdout",
     "output_type": "stream",
     "text": [
      "The Epoch: 92/100\n"
     ]
    },
    {
     "name": "stderr",
     "output_type": "stream",
     "text": [
      "100%|████████████████████████████████| 67/67 [00:02<00:00, 26.38it/s, loss=9.28]\n"
     ]
    },
    {
     "name": "stdout",
     "output_type": "stream",
     "text": [
      "The Epoch: 93/100\n"
     ]
    },
    {
     "name": "stderr",
     "output_type": "stream",
     "text": [
      "100%|████████████████████████████████| 67/67 [00:01<00:00, 36.34it/s, loss=17.1]\n"
     ]
    },
    {
     "name": "stdout",
     "output_type": "stream",
     "text": [
      "The Epoch: 94/100\n"
     ]
    },
    {
     "name": "stderr",
     "output_type": "stream",
     "text": [
      "100%|████████████████████████████████| 67/67 [00:02<00:00, 33.06it/s, loss=2.07]\n"
     ]
    },
    {
     "name": "stdout",
     "output_type": "stream",
     "text": [
      "The Epoch: 95/100\n"
     ]
    },
    {
     "name": "stderr",
     "output_type": "stream",
     "text": [
      "100%|████████████████████████████████| 67/67 [00:02<00:00, 26.13it/s, loss=3.77]\n"
     ]
    },
    {
     "name": "stdout",
     "output_type": "stream",
     "text": [
      "The Epoch: 96/100\n"
     ]
    },
    {
     "name": "stderr",
     "output_type": "stream",
     "text": [
      "100%|████████████████████████████████| 67/67 [00:04<00:00, 13.54it/s, loss=1.41]\n"
     ]
    },
    {
     "name": "stdout",
     "output_type": "stream",
     "text": [
      "The Epoch: 97/100\n"
     ]
    },
    {
     "name": "stderr",
     "output_type": "stream",
     "text": [
      "100%|████████████████████████████████| 67/67 [00:02<00:00, 27.61it/s, loss=2.77]\n"
     ]
    },
    {
     "name": "stdout",
     "output_type": "stream",
     "text": [
      "The Epoch: 98/100\n"
     ]
    },
    {
     "name": "stderr",
     "output_type": "stream",
     "text": [
      "100%|████████████████████████████████| 67/67 [00:03<00:00, 21.12it/s, loss=6.09]\n"
     ]
    },
    {
     "name": "stdout",
     "output_type": "stream",
     "text": [
      "The Epoch: 99/100\n"
     ]
    },
    {
     "name": "stderr",
     "output_type": "stream",
     "text": [
      "100%|████████████████████████████████| 67/67 [00:02<00:00, 29.16it/s, loss=1.48]\n"
     ]
    }
   ],
   "source": [
    "for epoch in range(NUM_EPOCHS):\n",
    "    print(f'The Epoch: {epoch}/{NUM_EPOCHS}')\n",
    "    # Loss\n",
    "    train_loss.append(train_fn(trainLoader, model, optimizer, loss_fn, scaler, DEVICE))\n",
    "    val_loss.append(val_fn(testLoader,model,loss_fn,DEVICE))\n",
    "\n",
    "    # # Save Check Point\n",
    "    # checkpoint = {\n",
    "    #     \"state_dict\": model.state_dict(),\n",
    "    #     \"optimizer\": optimizer.state_dict(),\n",
    "    # }\n",
    "    # save_checkpoint(checkpoint)"
   ]
  },
  {
   "cell_type": "code",
   "execution_count": 20,
   "id": "3de91ef4-e058-4e61-8f99-6a68206ee82d",
   "metadata": {},
   "outputs": [],
   "source": [
    "def ResultPlot(train_loss,val_loss,NUM_EPOCHS,save=False):\n",
    "  '''  \n",
    "  Plot the result \n",
    "  ----------\n",
    "  Attributes:\n",
    "  train_loss : list\n",
    "  val_loss: list\n",
    "  NUM_EPOCHS: int\n",
    "  save: bool\n",
    "  ----------\n",
    "  Example:\n",
    "  ResultPlot(train_loss,val_loss,NUM_EPOCHS,save=False)\n",
    "  '''\n",
    "  num_epochs = [i for i in range(NUM_EPOCHS)]\n",
    "  title1= 'The Model Loss'\n",
    "\n",
    "  plt.plot(num_epochs,train_loss,label ='Train_loss')\n",
    "  plt.plot(num_epochs,val_loss,label ='Val_loss')\n",
    "  plt.xlabel('Epochs')\n",
    "  plt.ylabel('Loss')\n",
    "  plt.title(title1)\n",
    "  plt.legend()\n",
    "  plt.grid()\n",
    "  plt.show()\n",
    "\n",
    "  if save:\n",
    "      if not os.path.exists(savePath):\n",
    "          os.makedirs(savePath)\n",
    "      plt.savefig(savePath+f'{name_fig}.jpg')"
   ]
  },
  {
   "cell_type": "code",
   "execution_count": 21,
   "id": "84f59ae9-2f3a-40aa-999a-a5545877fbb4",
   "metadata": {},
   "outputs": [
    {
     "data": {
      "image/png": "[encoded data removed]",
      "text/plain": [
       "<Figure size 640x480 with 1 Axes>"
      ]
     },
     "metadata": {},
     "output_type": "display_data"
    }
   ],
   "source": [
    "ResultPlot(train_loss,val_loss,NUM_EPOCHS,save=False)"
   ]
  },
  {
   "cell_type": "markdown",
   "id": "02c423ba-72b0-45a9-bdc8-d4b954c392a6",
   "metadata": {},
   "source": [
    "# Visualization"
   ]
  },
  {
   "cell_type": "code",
   "execution_count": 22,
   "id": "e698f907-c9b1-4e84-a00d-2c822860ce25",
   "metadata": {},
   "outputs": [],
   "source": [
    "# Plot the data\n",
    "train = df[:splittingIndex]\n",
    "valid = df[splittingIndex:]\n",
    "X_test = X_test.float().to(device=DEVICE)\n",
    "predictions = model(X_test)\n",
    "# In case of using gpu - copy to cpu before process\n",
    "predictions = predictions.cpu()\n",
    "\n",
    "pred_value = predictions[:,-1,:].detach().numpy()\n",
    "valid['Predictions'] = pred_value"
   ]
  },
  {
   "cell_type": "markdown",
   "id": "e12f4fc9-977c-4687-b2f6-dbcf87dec5c6",
   "metadata": {},
   "source": [
    "## Evaluation"
   ]
  },
  {
   "cell_type": "code",
   "execution_count": 24,
   "id": "207085c9-c850-4a0e-9635-ac996a468128",
   "metadata": {},
   "outputs": [
    {
     "name": "stdout",
     "output_type": "stream",
     "text": [
      "Accuracy:  0.5396825396825397\n"
     ]
    }
   ],
   "source": [
    "def BiTransform(input):\n",
    "  if input>0:\n",
    "    input = 1\n",
    "  else :\n",
    "    input = 0\n",
    "  return input\n",
    "\n",
    "valid['diff'] = valid['Predictions'] - valid['Price']\n",
    "valid['diff'] =  valid['diff'].apply(BiTransform)\n",
    "print( \"Accuracy: \", valid['diff'].sum()/len(valid))"
   ]
  },
  {
   "cell_type": "markdown",
   "id": "af490840-2d2c-4938-bf09-c786faded8e5",
   "metadata": {},
   "source": [
    "# Prediction"
   ]
  },
  {
   "cell_type": "code",
   "execution_count": 25,
   "id": "d4f56c33-66cd-4e95-920f-7864494974e6",
   "metadata": {},
   "outputs": [],
   "source": [
    "def VisualizationFigure():\n",
    "  # Visualize the data\n",
    "  plt.figure(figsize=(16,6))\n",
    "  plt.title('Model')\n",
    "  plt.xlabel('Date', fontsize=18)\n",
    "  plt.ylabel('Close Price', fontsize=18)\n",
    "  plt.plot(train['Price'])\n",
    "  plt.plot(valid[['Price', 'Predictions']])\n",
    "  plt.legend(['Train', 'Val', 'Predictions'], loc='lower right')\n",
    "  plt.grid()\n",
    "  plt.show()\n",
    "    \n",
    "def Latest_Prediction():\n",
    "  '''  \n",
    "  Predict the latest day following\n",
    "  ----------\n",
    "  Attributes: \n",
    "  ----------\n",
    "  Example:\n",
    "  Latest_Prediction()\n",
    "  '''\n",
    "  X_last = torch.tensor(df['Price'][-lookback:].values).unsqueeze(-1)\n",
    "  X_last = X_last.float().to(device=DEVICE)\n",
    "  y_last_pred = model(X_last)\n",
    "  y_last_pred = y_last_pred.cpu()\n",
    "  y_last_pred = y_last_pred.detach().numpy()\n",
    "  date = df_raw['Date'].values[0]\n",
    "  res = y_last_pred[-1][0]\n",
    "  last_price = df_raw['Price'].values[0]\n",
    "  print(f'The last Price of OCB on {date}: {last_price}')\n",
    "  print(f'The nextday Price of OCB: {res:.2f}')"
   ]
  },
  {
   "cell_type": "code",
   "execution_count": 26,
   "id": "bec824f7-ecb9-4c41-93c0-f4a3f3f5f4f8",
   "metadata": {},
   "outputs": [
    {
     "name": "stdout",
     "output_type": "stream",
     "text": [
      "The last Price of OCB on 08/18/2023: 18,200.00\n",
      "The nextday Price of OCB: 18.80\n",
      "Trend Prediction Accuracy:0.54 \n"
     ]
    }
   ],
   "source": [
    "Latest_Prediction()\n",
    "print(\"Trend Prediction Accuracy:{:.2f} \".format(valid['diff'].sum()/len(valid)))"
   ]
  },
  {
   "cell_type": "code",
   "execution_count": 27,
   "id": "18f9cb1f-b685-4984-ad57-cc87361bed9b",
   "metadata": {},
   "outputs": [
    {
     "data": {
      "image/png": "[encoded data removed]",
      "text/plain": [
       "<Figure size 1600x600 with 1 Axes>"
      ]
     },
     "metadata": {},
     "output_type": "display_data"
    }
   ],
   "source": [
    "VisualizationFigure()"
   ]
  }
 ],
 "metadata": {
  "kernelspec": {
   "display_name": "Python 3 (ipykernel)",
   "language": "python",
   "name": "python3"
  },
  "language_info": {
   "codemirror_mode": {
    "name": "ipython",
    "version": 3
   },
   "file_extension": ".py",
   "mimetype": "text/x-python",
   "name": "python",
   "nbconvert_exporter": "python",
   "pygments_lexer": "ipython3",
   "version": "3.11.5"
  }
 },
 "nbformat": 4,
 "nbformat_minor": 5
}
